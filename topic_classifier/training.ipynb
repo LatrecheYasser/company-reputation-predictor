{
 "cells": [
  {
   "cell_type": "code",
   "execution_count": 1,
   "metadata": {},
   "outputs": [],
   "source": [
    "import torch\n",
    "from torch.utils.tensorboard import SummaryWriter\n",
    "from dataset import Articles\n",
    "from utils import CLASSES, load_voc\n",
    "import numpy as np\n",
    "from model import TopicClassifier\n"
   ]
  },
  {
   "cell_type": "code",
   "execution_count": 2,
   "metadata": {},
   "outputs": [],
   "source": [
    "# environment settings\n",
    "device = torch.device(\"cuda\" if torch.cuda.is_available() else 'cpu')\n",
    "print(torch.cuda.get_device_name(torch.cuda.current_device()))\n",
    "writer = SummaryWriter(\"runs/topic_classifier.01\")\n",
    "\n",
    "# data, emb = init()    for glove\n",
    "# train_dataset = Articles(\"train.csv\", len(CLASSES),data, emb)    for glove\n",
    "# valid_dataset = Articles(\"valid.csv\", len(CLASSES),data, emb)    for glove\n",
    "# dataset \n",
    "train_dataset = Articles(\"train.csv\", len(CLASSES))\n",
    "valid_dataset = Articles(\"valid.csv\", len(CLASSES))\n",
    "\n",
    "# dataloader\n",
    "training = torch.utils.data.DataLoader(train_dataset, batch_size=50,\n",
    "                                       shuffle=True, drop_last=True)\n",
    "validation = torch.utils.data.DataLoader(valid_dataset, batch_size=50,\n",
    "                                         shuffle=True, drop_last=True)\n"
   ]
  },
  {
   "cell_type": "code",
   "execution_count": 3,
   "metadata": {},
   "outputs": [],
   "source": [
    "# model\n",
    "vocabulary = len(load_voc())\n",
    "model = TopicClassifier(vocabulary, len(CLASSES)).to(device)\n",
    "model.cuda()\n",
    "# on a une classe par instance au lieu d'une liste dans le dataset\n",
    "# criterion = torch.nn.BCELoss()\n",
    "criterion = torch.nn.CrossEntropyLoss()\n",
    "optimizer = torch.optim.Adam(model.parameters(), lr=0.001)\n",
    "\n",
    "batch_size_1 = len(training)\n",
    "batch_size_2 = len(validation)\n",
    "train_loss = 0\n",
    "validation_loss = 0"
   ]
  },
  {
   "cell_type": "code",
   "execution_count": 4,
   "metadata": {},
   "outputs": [],
   "source": [
    "for epoch in range(200):\n",
    "    print(\"starting epoch:\", epoch, \"loss:\", \"training\", train_loss, \"validation\", validation_loss)\n",
    "\n",
    "    train_loss = 0\n",
    "    validation_loss = 0\n",
    "\n",
    "    for batch, (text, topic) in enumerate(training):\n",
    "\n",
    "        if (batch % 20) == 0:\n",
    "            print(\"batch:\", batch)\n",
    "\n",
    "        optimizer.zero_grad()\n",
    "        y = model(text.to(device))\n",
    "\n",
    "        loss = criterion(y.to(device), topic.squeeze().to(device))\n",
    "        train_loss += loss.item()\n",
    "\n",
    "        loss.backward(retain_graph=True)\n",
    "        optimizer.step()\n",
    "        del loss\n",
    "        model.cell[0].detach_()\n",
    "        model.cell[1].detach_()\n",
    "\n",
    "    if (epoch % 10) == 0:\n",
    "        torch.save({\"state_dict\": model.state_dict(),\n",
    "                    \"epoch\": epoch},\n",
    "                   str(epoch) + \"_topic.pth\")\n",
    "\n",
    "    for batch, (text, topic) in enumerate(validation):\n",
    "\n",
    "        if (batch % 10) == 0:\n",
    "            print(\"batch:\", batch)\n",
    "\n",
    "        y = model(text.to(device))\n",
    "\n",
    "        loss = criterion(y.to(device), topic.squeeze().to(device))\n",
    "        validation_loss += loss.item()\n",
    "\n",
    "        del loss\n",
    "        model.cell[0].detach_()\n",
    "        model.cell[1].detach_()\n",
    "\n",
    "\n",
    "    train_loss = train_loss / batch_size_1\n",
    "    validation_loss = validation_loss / batch_size_2\n",
    "\n",
    "    writer.add_scalars(\"loss\", {\"training\": train_loss, \"validation\": validation_loss}, epoch)"
   ]
  },
  {
   "cell_type": "code",
   "execution_count": 5,
   "metadata": {},
   "outputs": [],
   "source": [
    "# save the results\n",
    "torch.save({\"state_dict\": model.state_dict(),\n",
    "            \"epoch\": 200},\n",
    "           \"topicClassifier.pth\")\n",
    "writer.close()"
   ]
  }
 ],
 "metadata": {
  "kernelspec": {
   "display_name": "Python 3",
   "language": "python",
   "name": "python3"
  },
  "language_info": {
   "codemirror_mode": {
    "name": "ipython",
    "version": 3
   },
   "file_extension": ".py",
   "mimetype": "text/x-python",
   "name": "python",
   "nbconvert_exporter": "python",
   "pygments_lexer": "ipython3",
   "version": "3.7.3"
  }
 },
 "nbformat": 4,
 "nbformat_minor": 2
}
