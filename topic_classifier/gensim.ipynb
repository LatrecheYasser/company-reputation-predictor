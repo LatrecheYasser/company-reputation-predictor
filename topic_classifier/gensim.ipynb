{
 "cells": [
  {
   "cell_type": "code",
   "execution_count": 1,
   "metadata": {},
   "outputs": [],
   "source": [
    "import pandas\n",
    "import ast\n",
    "import nltk\n",
    "from nltk import word_tokenize\n",
    "from nltk.corpus import stopwords\n",
    "from nltk.stem.snowball import FrenchStemmer\n",
    "from collections import Counter\n",
    "import json\n",
    "import numpy as np\n",
    "import gensim"
   ]
  },
  {
   "cell_type": "code",
   "execution_count": 2,
   "metadata": {},
   "outputs": [],
   "source": [
    "def train_word2vec():\n",
    "    data = []\n",
    "    with open(\"intermediate.csv\", \"r\", encoding=\"utf-8\") as file:\n",
    "        file.readline()\n",
    "        for line in file:\n",
    "            res = ast.literal_eval(line.split(\"#\")[1][:-1])\n",
    "            data.append(res)\n",
    "    model = gensim.models.Word2Vec(\n",
    "        data,\n",
    "        size=150,\n",
    "        window=10,\n",
    "        min_count=2,\n",
    "        workers=10)\n",
    "    model.train(data, total_examples=len(data), epochs=10)\n",
    "    model.save(\"word2vec.model\")"
   ]
  },
  {
   "cell_type": "code",
   "execution_count": 3,
   "metadata": {},
   "outputs": [],
   "source": [
    "train_word2vec()"
   ]
  },
  {
   "cell_type": "code",
   "execution_count": 4,
   "metadata": {},
   "outputs": [],
   "source": [
    "import torch\n",
    "\n",
    "\n",
    "class Articles(Dataset):\n",
    "    def __init__(self, filename, classes):\n",
    "        self.dir = dir\n",
    "        self.classes = classes\n",
    "        self.df = pandas.read_csv(filename, delimiter=\",\", encoding=\"utf-8\")\n",
    "        self.model = gensim.models.Word2Vec.load(\"word2vec.model\")\n",
    "\n",
    "    def __getitem__(self, index):\n",
    "        line = ast.literal_eval(self.df[\"text\"][index])\n",
    "        text = torch.empty(45,150)\n",
    "        for i in range(45):\n",
    "            text[i,:] = torch.from_numpy(self.model.wv[line[i]])\n",
    "        # on a qu'une seule classe dans le dataset\n",
    "        # labels = ast.literal_eval(self.df[\"topic\"][index])\n",
    "        # topic = torch.zeros(self.classes)\n",
    "        # for label in labels:\n",
    "        #     topic[label] = 1\n",
    "        topic = torch.LongTensor([self.df[\"topic\"][index]])\n",
    "        return text, topic\n",
    "\n",
    "    def __len__(self):\n",
    "        return len(self.df)\n"
   ]
  },
  {
   "cell_type": "code",
   "execution_count": 5,
   "metadata": {},
   "outputs": [],
   "source": [
    "\n",
    "class TopicClassifier(torch.nn.Module):\n",
    "    def __init__(self, tokens, classes):\n",
    "        super(TopicClassifier, self).__init__()\n",
    "        device = torch.device(\"cuda\" if torch.cuda.is_available() else 'cpu')\n",
    "        self.lstm = torch.nn.LSTM(150, 1024, batch_first=True)\n",
    "        # replace (1, 1, 512) with (1, 50, 512) for prediction\n",
    "        self.cell = (torch.zeros(1, 1, 1024).to(device),\n",
    "                     torch.zeros(1, 1, 1024).to(device))\n",
    "        self.fc = torch.nn.Linear(1024, classes)\n",
    "\n",
    "    # dans le dataset un article n'appartient qu'à un seul topic, nous allons modifier le modele pour correspondre à cela\n",
    "    def forward(self, x):\n",
    "        l, self.cell = self.lstm(x, self.cell)\n",
    "        l = l[:, -1, :]\n",
    "        x = self.fc(l)\n",
    "        # return torch.sigmoid(x)\n",
    "        return x\n"
   ]
  }
 ],
 "metadata": {
  "kernelspec": {
   "display_name": "Python 3",
   "language": "python",
   "name": "python3"
  },
  "language_info": {
   "codemirror_mode": {
    "name": "ipython",
    "version": 3
   },
   "file_extension": ".py",
   "mimetype": "text/x-python",
   "name": "python",
   "nbconvert_exporter": "python",
   "pygments_lexer": "ipython3",
   "version": "3.7.3"
  }
 },
 "nbformat": 4,
 "nbformat_minor": 2
}
