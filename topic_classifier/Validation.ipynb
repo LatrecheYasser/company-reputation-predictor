{
 "cells": [
  {
   "cell_type": "code",
   "execution_count": 1,
   "metadata": {},
   "outputs": [],
   "source": [
    "from utils import CLASSES, load_voc, convert\n",
    "from dataset import Articles\n",
    "from model import TopicClassifier\n",
    "import torch\n",
    "import random\n",
    "import ast\n"
   ]
  },
  {
   "cell_type": "code",
   "execution_count": 2,
   "metadata": {},
   "outputs": [],
   "source": [
    "def load(name, vocabulary, CLASSES):\n",
    "    model = TopicClassifier(vocabulary, len(CLASSES))\n",
    "    model.load_state_dict(torch.load(name + \".pth\")[\"state_dict\"])\n",
    "    model.cuda()\n",
    "    model.eval()\n",
    "    model.train(False)\n",
    "    return model\n"
   ]
  },
  {
   "cell_type": "code",
   "execution_count": 3,
   "metadata": {},
   "outputs": [],
   "source": [
    "vocabulary = load_voc()\n",
    "\n",
    "\n",
    "valid = Articles(\"valid.csv\", len(CLASSES))\n",
    "# print(len(valid))\n",
    "\n",
    "# for i in range(0, 130, 10):\n",
    "#     model = load(str(120-i) + \"_topic\", len(vocabulary), CLASSES)\n",
    "\n",
    "model = load(\"topicClassifier\", len(vocabulary), CLASSES)\n",
    "output_size = 50  # depend on the model\n",
    "k = 0\n",
    "for j in range(len(valid)):\n",
    "    text, topic = valid.__getitem__(j)\n",
    "    y = model(text.view(1, output_size).cuda())\n",
    "    _, predicted = torch.max(y.data, 1)\n",
    "    if CLASSES[predicted.item()] == CLASSES[topic.item()]:\n",
    "        k += 1\n",
    "print(\"accuracy: \" + str(float(k / len(valid) * 100)) + \" %\")\n"
   ]
  },
  {
   "cell_type": "code",
   "execution_count": 4,
   "metadata": {},
   "outputs": [],
   "source": [
    "topic = \"78.10Z\" #the topic of the example\n",
    "#the text of the example\n",
    "text = convert(vocabulary,\"Ipsen a signé un partenariat de recherche avec PeptiMimesis, une jeune pousse issue de l'INSERM et de l'Université de Strasbourg. L'accord comprend une option de licence pour le développement et la commercialisation de nouveaux peptides thérapeutiques dans le domaine de l'oncologie. Ipsen et PeptiMimesis ont prévu de travailler en 'étroite collaboration'. La société alsacienne recevra le soutien financier d'Ipsen pour les phases de recherche ainsi que des paiements d'étapes liés aux avancées sur ce programme. En cas d'exercice de l'option, Ipsen pourrait en outre verser à PeptiMimesis des paiements potentiels liés à l'atteinte d'étapes de développement, réglementaires et commerciales ainsi que des redevances sur les ventes nettes mondiales annuelles. Les détails financiers de l'accord n'ont pas été dévoilés.\")\n",
    "text = torch.LongTensor(text[:50])\n",
    "length = list(text.size())[0]\n",
    "print(length)\n",
    "y = model(text.view(1, length).cuda())\n",
    "_, predicted = torch.max(y.data, 1)\n",
    "print(str(CLASSES[predicted.item()])+\": \"+topic)"
   ]
  }
 ],
 "metadata": {
  "kernelspec": {
   "display_name": "Python 3",
   "language": "python",
   "name": "python3"
  },
  "language_info": {
   "codemirror_mode": {
    "name": "ipython",
    "version": 3
   },
   "file_extension": ".py",
   "mimetype": "text/x-python",
   "name": "python",
   "nbconvert_exporter": "python",
   "pygments_lexer": "ipython3",
   "version": "3.7.3"
  }
 },
 "nbformat": 4,
 "nbformat_minor": 2
}
