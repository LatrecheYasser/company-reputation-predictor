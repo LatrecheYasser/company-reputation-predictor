{
 "cells": [
  {
   "cell_type": "code",
   "execution_count": 1,
   "metadata": {},
   "outputs": [],
   "source": [
    "import pandas\n",
    "import ast\n",
    "import torch\n",
    "from torch.utils.data import Dataset\n",
    "\n",
    "\n",
    "class Articles(Dataset):\n",
    "    def __init__(self, filename, classes):\n",
    "        self.dir = dir\n",
    "        self.classes = classes\n",
    "        self.df = pandas.read_csv(filename, delimiter=\",\", encoding=\"utf-8\")\n",
    "\n",
    "    def __getitem__(self, index):\n",
    "        text = torch.LongTensor(ast.literal_eval(self.df[\"text\"][index]))\n",
    "        # on a qu'une seule classe dans le dataset\n",
    "        # labels = ast.literal_eval(self.df[\"topic\"][index])\n",
    "        # topic = torch.zeros(self.classes)\n",
    "        # for label in labels:\n",
    "        #     topic[label] = 1\n",
    "        topic = torch.LongTensor([self.df[\"topic\"][index]])\n",
    "        return text, topic\n",
    "\n",
    "    def __len__(self):\n",
    "        return len(self.df)"
   ]
  },
  {
   "cell_type": "code",
   "execution_count": 2,
   "metadata": {},
   "outputs": [],
   "source": [
    "import torch\n",
    "\n",
    "\n",
    "class TopicClassifier(torch.nn.Module):\n",
    "    def __init__(self, tokens, classes):\n",
    "        super(TopicClassifier, self).__init__()\n",
    "        device = torch.device(\"cuda\" if torch.cuda.is_available() else 'cpu')\n",
    "        self.embeding = torch.nn.Embedding(tokens, 100)\n",
    "        self.lstm = torch.nn.LSTM(100, 1024, batch_first=True)\n",
    "        # replace (1, 1, 512) with (1, 50, 512) for prediction\n",
    "        self.cell = (torch.zeros(1, 1, 1024).to(device),\n",
    "                     torch.zeros(1, 1, 1024).to(device))\n",
    "        self.fc = torch.nn.Linear(1024, classes)\n",
    "\n",
    "    # dans le dataset un article n'appartient qu'à un seul topic, nous allons modifier le modele pour correspondre à cela\n",
    "    def forward(self, x):\n",
    "        x = self.embeding(x)\n",
    "        l, self.cell = self.lstm(x, self.cell)\n",
    "        l = l[:, -1, :]\n",
    "        x = self.fc(l)\n",
    "        # return torch.sigmoid(x)\n",
    "        return x\n"
   ]
  }
 ],
 "metadata": {
  "kernelspec": {
   "display_name": "Python 3",
   "language": "python",
   "name": "python3"
  },
  "language_info": {
   "codemirror_mode": {
    "name": "ipython",
    "version": 3
   },
   "file_extension": ".py",
   "mimetype": "text/x-python",
   "name": "python",
   "nbconvert_exporter": "python",
   "pygments_lexer": "ipython3",
   "version": "3.7.3"
  }
 },
 "nbformat": 4,
 "nbformat_minor": 2
}
