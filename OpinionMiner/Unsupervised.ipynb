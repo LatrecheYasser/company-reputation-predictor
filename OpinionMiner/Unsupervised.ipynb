{
 "cells": [
  {
   "cell_type": "markdown",
   "metadata": {},
   "source": [
    "Voir https://www.actuia.com/tutoriel/faire-de-classification-de-texte-python-textblob/"
   ]
  },
  {
   "cell_type": "markdown",
   "metadata": {},
   "source": [
    "# Rule Based System"
   ]
  },
  {
   "cell_type": "markdown",
   "metadata": {},
   "source": [
    "**TextBlob**"
   ]
  },
  {
   "cell_type": "code",
   "execution_count": 17,
   "metadata": {},
   "outputs": [
    {
     "name": "stderr",
     "output_type": "stream",
     "text": [
      "[nltk_data] Downloading package punkt to /home/raiz/nltk_data...\n",
      "[nltk_data]   Package punkt is already up-to-date!\n",
      "[nltk_data] Downloading package averaged_perceptron_tagger to\n",
      "[nltk_data]     /home/raiz/nltk_data...\n",
      "[nltk_data]   Unzipping taggers/averaged_perceptron_tagger.zip.\n"
     ]
    },
    {
     "data": {
      "text/plain": [
       "True"
      ]
     },
     "execution_count": 17,
     "metadata": {},
     "output_type": "execute_result"
    }
   ],
   "source": [
    "from textblob import TextBlob\n",
    "import nltk\n",
    "nltk.download('punkt')\n",
    "nltk.download('averaged_perceptron_tagger')"
   ]
  },
  {
   "cell_type": "code",
   "execution_count": 32,
   "metadata": {},
   "outputs": [],
   "source": [
    "data = []\n",
    "data.append('The question is often raised about BigTech as to whether they have now reached a size and scale where the lack of controls have become a major issue. \"Facebook admitted to TechCrunch it was running the Research program to gather data on usage habits, and it has no plans to stop.\" How about that as a pointer to the answer?')\n",
    "data.append('Is Facebook a spy?')\n",
    "data.append(\"This is the stupidest argument I've ever heard. Nobody (that I am aware of) is suing Facebook because the friend they chose to tell something private to didn't keep it secret. They're suing Facebook for using their privileged position as the facilitator of this social interaction to record and sell it.\")\n",
    "data.append(\"This is the stupidest argument I've ever heard. Nobody (that I am aware of) is suing Facebook because the friend they chose to tell something private to didn't keep it secret. They're suing Facebook for using their privileged position as the facilitator of this social interaction to record and sell it. It's also funny that he wants to act like it's just public posts, but Cambridge Analytica, and likely many others, also had information about private account settings, personal messages, and a bunch of other stuff that isn't public even within the realm of Facebook.\")"
   ]
  },
  {
   "cell_type": "markdown",
   "metadata": {},
   "source": [
    "Let's make some opinion analysis over the data"
   ]
  },
  {
   "cell_type": "code",
   "execution_count": 33,
   "metadata": {},
   "outputs": [
    {
     "name": "stdout",
     "output_type": "stream",
     "text": [
      "The question is often raised about BigTech as to whether they have now reached a size and scale where the lack of controls have become a major issue. \"Facebook admitted to TechCrunch it was running the Research program to gather data on usage habits, and it has no plans to stop.\" How about that as a pointer to the answer?\n",
      "Positive\n",
      "Sentiment(polarity=0.0625, subjectivity=0.5)\n",
      "=======================\n",
      "Is Facebook a spy?\n",
      "Neutral\n",
      "Sentiment(polarity=0.0, subjectivity=0.0)\n",
      "=======================\n",
      "This is the stupidest argument I've ever heard. Nobody (that I am aware of) is suing Facebook because the friend they chose to tell something private to didn't keep it secret. They're suing Facebook for using their privileged position as the facilitator of this social interaction to record and sell it.\n",
      "Negative\n",
      "Sentiment(polarity=-0.029166666666666674, subjectivity=0.34791666666666665)\n",
      "=======================\n",
      "This is the stupidest argument I've ever heard. Nobody (that I am aware of) is suing Facebook because the friend they chose to tell something private to didn't keep it secret. They're suing Facebook for using their privileged position as the facilitator of this social interaction to record and sell it. It's also funny that he wants to act like it's just public posts, but Cambridge Analytica, and likely many others, also had information about private account settings, personal messages, and a bunch of other stuff that isn't public even within the realm of Facebook.\n",
      "Positive\n",
      "Sentiment(polarity=0.05448717948717948, subjectivity=0.39807692307692305)\n",
      "=======================\n"
     ]
    }
   ],
   "source": [
    "for article in data:\n",
    "    print(article)\n",
    "    analysis = TextBlob(article)\n",
    "    if analysis.sentiment[0] > 0:\n",
    "        print('Positive')\n",
    "    elif analysis.sentiment[0] < 0:\n",
    "        print('Negative')\n",
    "    else:\n",
    "        print('Neutral')\n",
    "    print(analysis.sentiment)\n",
    "    print('=======================')"
   ]
  }
 ],
 "metadata": {
  "kernelspec": {
   "display_name": "Python 3",
   "language": "python",
   "name": "python3"
  },
  "language_info": {
   "codemirror_mode": {
    "name": "ipython",
    "version": 3
   },
   "file_extension": ".py",
   "mimetype": "text/x-python",
   "name": "python",
   "nbconvert_exporter": "python",
   "pygments_lexer": "ipython3",
   "version": "3.7.4"
  }
 },
 "nbformat": 4,
 "nbformat_minor": 2
}
