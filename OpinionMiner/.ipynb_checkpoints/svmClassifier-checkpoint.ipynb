{
 "cells": [
  {
   "cell_type": "markdown",
   "metadata": {},
   "source": [
    "References: \n",
    "https://medium.com/@vasista/sentiment-analysis-using-svm-338d418e3ff1"
   ]
  },
  {
   "cell_type": "code",
   "execution_count": 1,
   "metadata": {},
   "outputs": [],
   "source": [
    "#Get data\n",
    "#Source: Sentiment Polarity Datasets 2.0\n",
    "import pandas as pd\n",
    "\n",
    "#Train data\n",
    "trainData = pd.read_csv(\"https://raw.githubusercontent.com/Vasistareddy/sentiment_analysis/master/data/train.csv\")\n",
    "#Test Data\n",
    "testData = pd.read_csv(\"https://raw.githubusercontent.com/Vasistareddy/sentiment_analysis/master/data/test.csv\")"
   ]
  },
  {
   "cell_type": "code",
   "execution_count": 2,
   "metadata": {},
   "outputs": [
    {
     "data": {
      "text/html": [
       "<div>\n",
       "<style scoped>\n",
       "    .dataframe tbody tr th:only-of-type {\n",
       "        vertical-align: middle;\n",
       "    }\n",
       "\n",
       "    .dataframe tbody tr th {\n",
       "        vertical-align: top;\n",
       "    }\n",
       "\n",
       "    .dataframe thead th {\n",
       "        text-align: right;\n",
       "    }\n",
       "</style>\n",
       "<table border=\"1\" class=\"dataframe\">\n",
       "  <thead>\n",
       "    <tr style=\"text-align: right;\">\n",
       "      <th></th>\n",
       "      <th>Content</th>\n",
       "      <th>Label</th>\n",
       "    </tr>\n",
       "  </thead>\n",
       "  <tbody>\n",
       "    <tr>\n",
       "      <th>1556</th>\n",
       "      <td>synopsis : melissa , a mentally-disturbed woma...</td>\n",
       "      <td>neg</td>\n",
       "    </tr>\n",
       "    <tr>\n",
       "      <th>1056</th>\n",
       "      <td>i heard actor skeet ulrich discussing this fil...</td>\n",
       "      <td>neg</td>\n",
       "    </tr>\n",
       "    <tr>\n",
       "      <th>556</th>\n",
       "      <td>to me , nicolas cage sounds like an ideal choi...</td>\n",
       "      <td>pos</td>\n",
       "    </tr>\n",
       "    <tr>\n",
       "      <th>469</th>\n",
       "      <td>when quentin tarantino made \" pulp fiction \" ,...</td>\n",
       "      <td>pos</td>\n",
       "    </tr>\n",
       "    <tr>\n",
       "      <th>997</th>\n",
       "      <td>well arnold has completed the seemingly imposs...</td>\n",
       "      <td>neg</td>\n",
       "    </tr>\n",
       "  </tbody>\n",
       "</table>\n",
       "</div>"
      ],
      "text/plain": [
       "                                                Content Label\n",
       "1556  synopsis : melissa , a mentally-disturbed woma...   neg\n",
       "1056  i heard actor skeet ulrich discussing this fil...   neg\n",
       "556   to me , nicolas cage sounds like an ideal choi...   pos\n",
       "469   when quentin tarantino made \" pulp fiction \" ,...   pos\n",
       "997   well arnold has completed the seemingly imposs...   neg"
      ]
     },
     "execution_count": 2,
     "metadata": {},
     "output_type": "execute_result"
    }
   ],
   "source": [
    "#Looking at the data\n",
    "trainData.sample(frac=1).head(5) #shuffle and pick 5"
   ]
  },
  {
   "cell_type": "code",
   "execution_count": 3,
   "metadata": {},
   "outputs": [],
   "source": [
    "#Vectorizing the data\n",
    "#Using TF-IDF\n",
    "from sklearn.feature_extraction.text import TfidfVectorizer\n",
    "\n",
    "#Create feature vectors\n",
    "vectorizer = TfidfVectorizer(min_df = 5,\n",
    "                            max_df = 0.8,\n",
    "                            sublinear_tf = True,\n",
    "                            use_idf = True)\n",
    "\n",
    "train_vectors = vectorizer.fit_transform(trainData['Content'])\n",
    "test_vectors = vectorizer.transform(testData['Content'])"
   ]
  },
  {
   "cell_type": "code",
   "execution_count": 4,
   "metadata": {},
   "outputs": [
    {
     "name": "stdout",
     "output_type": "stream",
     "text": [
      "Training time: 7.029638s; Prediction time: 0.670842s\n",
      "Positive: {'precision': 0.9191919191919192, 'recall': 0.91, 'f1-score': 0.9145728643216081, 'support': 100}\n",
      "Negative: {'precision': 0.9108910891089109, 'recall': 0.92, 'f1-score': 0.9154228855721394, 'support': 100}\n"
     ]
    }
   ],
   "source": [
    "#Linear SVM model\n",
    "import time\n",
    "from sklearn import svm\n",
    "from sklearn.metrics import classification_report\n",
    "\n",
    "#Perform classification with SVM, linear kernel\n",
    "classifier_linear = svm.SVC(kernel='linear')\n",
    "t0 = time.time()\n",
    "classifier_linear.fit(train_vectors, trainData['Label'])\n",
    "t1 = time.time()\n",
    "prediction_linear = classifier_linear.predict(test_vectors)\n",
    "t2 = time.time()\n",
    "time_linear_train = t1-t0\n",
    "time_linear_predict = t2-t1\n",
    "\n",
    "#Results\n",
    "print(\"Training time: %fs; Prediction time: %fs\" % (time_linear_train, time_linear_predict))\n",
    "\n",
    "report = classification_report(testData['Label'], prediction_linear, output_dict=True)\n",
    "\n",
    "print('Positive:', report['pos'])\n",
    "print('Negative:', report['neg'])"
   ]
  },
  {
   "cell_type": "code",
   "execution_count": 1,
   "metadata": {},
   "outputs": [],
   "source": [
    "#Dump the model and vocabulary\n",
    "import pickle\n",
    "\n",
    "#Paths\n",
    "VOCABULARY_PATH = 'data/output/vectorizer.sav'\n",
    "MODEL_PATH = 'data/output/model.sav'"
   ]
  },
  {
   "cell_type": "code",
   "execution_count": null,
   "metadata": {},
   "outputs": [],
   "source": [
    "#Picling the vectorizer\n",
    "pickle_out = open(VOCABULARY_PATH, 'wb')\n",
    "pickle.dump(vectorizer, pickle_out)\n",
    "pickle_out.close()\n",
    "\n",
    "#Pickling the model\n",
    "pickle_out = open(MODEL_PATH, 'wb')\n",
    "pickle.dump(classifier_linear, pickle_out)\n",
    "pickle_out.close()"
   ]
  },
  {
   "cell_type": "code",
   "execution_count": 3,
   "metadata": {},
   "outputs": [],
   "source": [
    "#Extract the model and vocabulary\n",
    "model_in = open(MODEL_PATH, 'rb')\n",
    "vectorizer_in = open(VOCABULARY_PATH, 'rb')\n",
    "\n",
    "classifier_linear = pickle.load(model_in)\n",
    "vectorizer = pickle.load(vectorizer_in)"
   ]
  },
  {
   "cell_type": "code",
   "execution_count": 8,
   "metadata": {},
   "outputs": [
    {
     "name": "stdout",
     "output_type": "stream",
     "text": [
      "['pos' 'neg']\n"
     ]
    }
   ],
   "source": [
    "#Make a prediction\n",
    "review = [\"TOTAL is the best entrerprise ever!\", 'SOGE is a corrupted entreprise.']\n",
    "\n",
    "review_vector = vectorizer.transform(review) #Vectorize\n",
    "print(classifier_linear.predict(review_vector))#Predict"
   ]
  }
 ],
 "metadata": {
  "kernelspec": {
   "display_name": "Python 3",
   "language": "python",
   "name": "python3"
  },
  "language_info": {
   "codemirror_mode": {
    "name": "ipython",
    "version": 3
   },
   "file_extension": ".py",
   "mimetype": "text/x-python",
   "name": "python",
   "nbconvert_exporter": "python",
   "pygments_lexer": "ipython3",
   "version": "3.7.4"
  }
 },
 "nbformat": 4,
 "nbformat_minor": 2
}
